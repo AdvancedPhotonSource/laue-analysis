{
 "cells": [
  {
   "cell_type": "code",
   "execution_count": 1,
   "id": "dcb9a970-17bf-4663-94de-be3334cb3f92",
   "metadata": {},
   "outputs": [
    {
     "name": "stdout",
     "output_type": "stream",
     "text": [
      "Populating the interactive namespace from numpy and matplotlib\n"
     ]
    }
   ],
   "source": [
    "import h5py\n",
    "import matplotlib.pyplot as plt\n",
    "import numpy as np\n",
    "import sys\n",
    "import os\n",
    "import glob\n",
    "\n",
    "sys.path.append(\"/data/laue34/LaueIndex_XML_python/Example/jupyter_files/py_func/\")\n",
    "pathbins = '/data/laue34/LaueIndex_XML_python/Example/jupyter_files/py_func/linux/'\n",
    "\n",
    "import fn_LaueGopipline2 as LGp\n",
    "# without this command the code does not run; I could not figure why\n",
    "%pylab inline   \n",
    "\n",
    "#%matplotlib widget\n",
    "\n",
    "\n",
    "\n"
   ]
  },
  {
   "cell_type": "code",
   "execution_count": 2,
   "id": "fd9f9885-7a94-4127-9426-524aa6ed89f1",
   "metadata": {},
   "outputs": [
    {
     "name": "stdout",
     "output_type": "stream",
     "text": [
      "['out_1_100', 'out_1_101', 'out_2_100', 'out_2_101']\n"
     ]
    }
   ],
   "source": [
    "# set_file_range\n",
    "\n",
    "scanPoint = np.arange(1,3,1)\n",
    "depthRange = np.arange(100, 102, 1)\n",
    "#depthRange = np.nan #if no depthRange\n",
    "\n",
    "#set data folder for reading\n",
    "filefolder = '/data/laue34/repacks_10mn/consgeo/'\n",
    "filename_ = 'out_'\n",
    "\n",
    "#set data folder for saving results\n",
    "savefolder = '/data/laue34/LaueIndex_XML_python/Example/jupyter_files/results/out_index1/'\n",
    "geo_file = '/data/laue34/LaueIndex_XML_python/Example/jupyter_files/xml_index/geoN_2023-02-07_19-19-10.xml'\n",
    "cryst_file = '/data/laue34/LaueIndex_XML_python/Example/jupyter_files/xml_index/Ni.xml'\n",
    "\n",
    "#generate the list of files name for analysis\n",
    "fnames = []\n",
    "\n",
    "if np.isnan(depthRange).any():\n",
    "    for ii in range(len(scanPoint)):\n",
    "        # if the depthRange exist\n",
    "        fnames.append(filename_ + str(scanPoint[ii]))\n",
    "else:\n",
    "    for ii in range(len(scanPoint)):\n",
    "        for jj in range (len(depthRange)):\n",
    "            fnames.append(filename_ + str(scanPoint[ii]) + '_' + str(depthRange[jj]))\n",
    "\n",
    "print(fnames)    \n",
    "\n",
    "\n",
    "\n",
    "#### just for testing clean the folder before running the next cell, as it will not show up what is wrong\n",
    "\n",
    "\n",
    "files = glob.glob(savefolder + '*')\n",
    "for f in files:\n",
    "    os.remove(f)"
   ]
  },
  {
   "cell_type": "code",
   "execution_count": 9,
   "id": "fc614e0d-8e14-478d-b90f-7f8181fe7b37",
   "metadata": {},
   "outputs": [
    {
     "name": "stdout",
     "output_type": "stream",
     "text": [
      "/data/laue34/LaueIndex_XML_python/Example/jupyter_files/results/out_index1/p2q_out_1_100.txt saved\n",
      "Found 1 patterns\n",
      "/data/laue34/LaueIndex_XML_python/Example/jupyter_files/results/out_index1/p2q_out_1_101.txt saved\n",
      "Found 1 patterns\n",
      "/data/laue34/LaueIndex_XML_python/Example/jupyter_files/results/out_index1/p2q_out_2_100.txt saved\n",
      "Found 1 patterns\n",
      "/data/laue34/LaueIndex_XML_python/Example/jupyter_files/results/out_index1/p2q_out_2_101.txt saved\n",
      "Found 1 patterns\n"
     ]
    }
   ],
   "source": [
    "# !rm -r ./peaksXY\n",
    "# !mkdir peaksXY\n",
    "\n",
    "\n",
    "# To crop the detector range \n",
    "x1 = 0 # min is 0\n",
    "x2 = 2047 # max is 2047 full range\n",
    "y1 = 0 # min is 0\n",
    "y2 = 2047 # max is 2047 full range\n",
    "\n",
    "depth = 0 # in case the depth coordinate is not exist optional to change the depth variable during analysis; should be as a vector \n",
    "\n",
    "# fitX_all = []\n",
    "# fitY_all = []\n",
    "# Inten_all = []\n",
    "\n",
    "fnamesnotdone = []\n",
    "notdone = []\n",
    "\n",
    "\n",
    "for ii in range(len(fnames)):\n",
    "    filename = filefolder+ fnames[ii]+'.h5'\n",
    "    #filenamesave = '/clhome/DSHEYFER/jupyter_analysis/ML_Laue/peak_seearch/XEOL1222_HASlongcropped/' + fnames[ii] + '.h5'\n",
    "    with h5py.File(filename, 'r') as f:\n",
    "        data_2D = np.float32(f['entry1/data/data'])[y1:y2+1,x1:x2+1]\n",
    "        try:\n",
    "            depth = np.float32(f['entry1/depth'])[:]\n",
    "        #data_2D[data_2D >= 65535] = data_2D.mean()\n",
    "        except:\n",
    "            print('no depth found')\n",
    "    temph5save = 'temp.h5' # or filenamesave if saving the cropped file out of the full file\n",
    "    \n",
    "    LGp.fn_genericJonsH5(filename, temph5save, x1,x2,y1,y2, depth, data_2D)\n",
    "    # to run peak search program\n",
    "    \n",
    "    try:\n",
    "        path_peaksearch = pathbins+'peaksearch'\n",
    "\n",
    "        ps_boxsize = 18.0;\n",
    "        ps_maxRfactor = 0.5;\n",
    "        ps_min_size = 1.13;\n",
    "        ps_max_peaks = 300;\n",
    "        ps_smooth = 1;\n",
    "        ps_minSeparation = 10;\n",
    "        ps_threshold = 50;  # if '' then threshold is nan\n",
    "\n",
    "        ps_peaktype = 'Lorentzian'\n",
    "        ps_peaktype = 'Gaussian' # Lorentzian\n",
    "        ps_mask = ''\n",
    "        ps_input = temph5save\n",
    "        ps_out = savefolder+'peaks_'+ fnames[ii]+'.txt'\n",
    "        path_peaks2qs =  pathbins+'pixels2qs'\n",
    "        pq_geo = geo_file\n",
    "        pq_cryst = cryst_file\n",
    "        pq_input = ps_out\n",
    "        pq_out = savefolder+'p2q_'+ fnames[ii]+'.txt'\n",
    "\n",
    "        path_index = pathbins +'euler'\n",
    "        ix_keVmaxCalc = 17.2\n",
    "        ix_keVmaxTest = 35.0\n",
    "        ix_angleTolerance = 0.1\n",
    "        ix_h = 0\n",
    "        ix_k = 0\n",
    "        ix_l = 2\n",
    "        ix_cone = 72.0\n",
    "        ix_input = pq_out\n",
    "        ix_out = savefolder +'index_'+ fnames[ii]+'.txt'\n",
    "\n",
    "\n",
    "        LGp.fn_peakSearch(path_peaksearch, ps_boxsize, ps_maxRfactor, ps_min_size, ps_minSeparation, ps_smooth, ps_threshold, ps_max_peaks, ps_mask, ps_input, ps_out)\n",
    "        LGp.fn_peaks2qs(path_peaks2qs, pq_geo, pq_cryst, pq_input, pq_out)\n",
    "        LGp.fn_Index(path_index, ix_keVmaxCalc, ix_keVmaxTest, ix_angleTolerance, ix_h, ix_k, ix_l, ix_cone, ix_input, ix_out)\n",
    "        \n",
    "        \n",
    "        # if I do not run this function then I do not know if files are actually saved\n",
    "        Peaks_calc = LGp.fn_readIndex(ix_out, 0) # 1 is to show the output\n",
    "\n",
    "    except:\n",
    "        print(\"ERROR: \" + filename)\n",
    "        notdone.append(ii)\n",
    "        fnamesnotdone.append(filename)\n",
    "\n"
   ]
  },
  {
   "cell_type": "code",
   "execution_count": 10,
   "id": "b9fe6de4-134e-454b-b8fb-1393d6efa85e",
   "metadata": {},
   "outputs": [],
   "source": [
    "#%pylab inline\n",
    "#matplotlib widget"
   ]
  },
  {
   "cell_type": "code",
   "execution_count": 11,
   "id": "358f5ba1-a628-4b80-8a08-1963c5123fc4",
   "metadata": {},
   "outputs": [
    {
     "name": "stdout",
     "output_type": "stream",
     "text": [
      "Found 1 patterns\n"
     ]
    },
    {
     "data": {
      "image/png": "[encoded data removed]",
      "text/plain": [
       "<Figure size 720x720 with 2 Axes>"
      ]
     },
     "metadata": {
      "needs_background": "light"
     },
     "output_type": "display_data"
    }
   ],
   "source": [
    "# show some results \n",
    "\n",
    "\n",
    "to_plot = [0]\n",
    "for tt in range(len(to_plot)):\n",
    "    ii = to_plot[tt]\n",
    "    filename = filefolder+ fnames[ii]+'.h5'\n",
    "    ps_out = savefolder+'peaks_'+ fnames[ii]+'.txt'\n",
    "    ix_out = savefolder +'index_'+ fnames[ii]+'.txt'\n",
    "\n",
    "    [fitX, fitY, Ipeak] = LGp.fn_readXY(ps_out)\n",
    "    Peaks_calc = LGp.fn_readIndex(ix_out, 0) # 1 is to show the output\n",
    "    \n",
    "    #some extra parameters read from the index.txt files\n",
    "    #[astar_all, bstar_all, cstar_all, goodness_index, rms_error_index, Nind] = LGp.fn_read_abc(ix_out)\n",
    "    #print(astar_all)\n",
    "    #print(bstar_all)\n",
    "    #print(cstar_all)\n",
    "    #print(Nind)\n",
    "\n",
    "    fig = plt.figure(figsize = (10,10))\n",
    "    ax1 = fig.add_subplot(1,1,1)\n",
    "    img1 = ax1.imshow(data_2D, cmap = 'terrain_r', vmin = 10, vmax = 50)\n",
    "    ax1.set_aspect(1)\n",
    "    ax1.set_title(fnames[ii])\n",
    "    plt.colorbar(img1)\n",
    "\n",
    "    d = 10\n",
    "    ccolors = ['b', 'r', 'm', 'g', 'k']\n",
    "    for ii in range(len(fitX)):\n",
    "        xcen = fitX[ii]\n",
    "        ycen = fitY[ii]\n",
    "        ax1.plot([xcen-d, xcen-d, xcen+d, xcen+d, xcen-d],[ycen-d, ycen+d, ycen+d, ycen-d, ycen-d], linewidth = 1, color = 'k')\n",
    "        ax1.plot([xcen-d, xcen+d],[ycen-d, ycen+d], linewidth = 1, color = 'k')\n",
    "        ax1.plot([xcen-d, xcen+d],[ycen+d, ycen-d], linewidth = 1, color = 'k')\n",
    "\n",
    "    for ii in range(len(Peaks_calc)):\n",
    "        for jj in range(len(Peaks_calc[ii])):\n",
    "            xcen = fitX[int(Peaks_calc[ii][jj][10])]\n",
    "            ycen = fitY[int(Peaks_calc[ii][jj][10])]\n",
    "            str_hkl = str(int(Peaks_calc[ii][jj][4])) + str(int(Peaks_calc[ii][jj][5])) + str(int(Peaks_calc[ii][jj][6]))\n",
    "            #print(str_hkl)\n",
    "            ax1.text(xcen, ycen, str_hkl, color = ccolors[ii], fontsize = 12)\n",
    "            \n",
    "            \n",
    "#plt.savefig('Laue_8396.eps', format='eps', dpi = 600)\n",
    "\n",
    "\n"
   ]
  },
  {
   "cell_type": "code",
   "execution_count": null,
   "id": "eae552ef-9317-485b-887e-968cf1abdc7a",
   "metadata": {},
   "outputs": [],
   "source": []
  }
 ],
 "metadata": {
  "kernelspec": {
   "display_name": "Python 3",
   "language": "python",
   "name": "python3"
  },
  "language_info": {
   "codemirror_mode": {
    "name": "ipython",
    "version": 3
   },
   "file_extension": ".py",
   "mimetype": "text/x-python",
   "name": "python",
   "nbconvert_exporter": "python",
   "pygments_lexer": "ipython3",
   "version": "3.6.13"
  }
 },
 "nbformat": 4,
 "nbformat_minor": 5
}
