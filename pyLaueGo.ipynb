{
 "cells": [
  {
   "cell_type": "code",
   "execution_count": 1,
   "id": "52ceed63",
   "metadata": {},
   "outputs": [],
   "source": [
    "import yaml\n",
    "import subprocess\n",
    "from datetime import datetime"
   ]
  },
  {
   "cell_type": "code",
   "execution_count": 2,
   "id": "c3545ced",
   "metadata": {},
   "outputs": [],
   "source": [
    "config = {\n",
    "  'threshold': 250,\n",
    "  'thresholdRatio': -1, #-1 for no threshold ratio\n",
    "  'maxRfactor': 0.5,\n",
    "  'boxsize': 18,\n",
    "  'max_number': 300,\n",
    "  'min_separation': 10,\n",
    "  'peakShape': 'Lorentzian',\n",
    "  'scanPointStart': 1,\n",
    "  'scanPointEnd': 2,\n",
    "  #no depth for this scan\n",
    "  #depthRangeStart: 1\n",
    "  #depthRangeEnd: 2\n",
    "  'detectorCropX1': 0, #min 0 max 2047\n",
    "  'detectorCropX2': 2047,\n",
    "  'detectorCropY1': 0,\n",
    "  'detectorCropY2': 2047,\n",
    "  'min_size': 1.13,\n",
    "  'max_peaks': 50,\n",
    "  'smooth': 0,\n",
    "  'depth': 0,\n",
    "  'maskFile': '',\n",
    "  'indexKeVmaxCalc': 17.2,\n",
    "  'indexKeVmaxTest': 30.0,\n",
    "  'indexAngleTolerance': 0.1,\n",
    "  'indexH': 1,\n",
    "  'indexK': 1,\n",
    "  'indexL': 1,\n",
    "  'indexCone': 72.0,\n",
    "  'energyUnit': 'keV',\n",
    "  'exposureUnit': 'sec',\n",
    "  'cosmicFilter': True,\n",
    "  'recipLatticeUnit': '1/nm',\n",
    "  'latticeParametersUnit': 'nm',\n",
    "  'peaksearchPath': '/clhome/EPIX34ID/dev/hannah-dev/laue-indexing/pipeline/c_programs/peaksearch/peaksearch',\n",
    "  'p2qPath': '/clhome/EPIX34ID/dev/hannah-dev/laue-indexing/pipeline/c_programs/pixels2qs/pix2qs',\n",
    "  'indexingPath': '/clhome/EPIX34ID/dev/hannah-dev/laue-indexing/pipeline/c_programs/euler/euler',\n",
    "  'outputFolder': '/clhome/EPIX34ID/dev/hannah-dev/output',\n",
    "  'filefolder': '/data34b/Run2023-1/XEOL223/HAs_long/LAUE1',\n",
    "  'filenamePrefix': 'HAs_long_laue1_',\n",
    "  'geoFile': '/clhome/EPIX34ID/dev/hannah-dev/laue-indexing/pipeline/config/geoN_2023-02-07_19-19-10.xml',\n",
    "  'crystFile': '/clhome/EPIX34ID/dev/hannah-dev/laue-indexing/pipeline/config/CdTe.xml',\n",
    "  'depth': 'nan',\n",
    "  'beamline': '34ID-E',\n",
    "  'cosmicFilter': True,\n",
    "}"
   ]
  },
  {
   "cell_type": "code",
   "execution_count": 3,
   "id": "821fbfe5",
   "metadata": {},
   "outputs": [],
   "source": [
    "#save config to file\n",
    "now = datetime.now().strftime(\"%Y-%m-%d-%H:%M:%S\")\n",
    "configFile = f\"{config['outputFolder']}/config_{now}.yaml\"\n",
    "\n",
    "with open(configFile, 'w+') as f:\n",
    "    yaml.dump(config, f)"
   ]
  },
  {
   "cell_type": "code",
   "execution_count": 4,
   "id": "c2ddfd21",
   "metadata": {},
   "outputs": [
    {
     "name": "stdout",
     "output_type": "stream",
     "text": [
      "0\n",
      "runtime is 0:00:03.427699\n",
      "\n",
      "\n"
     ]
    }
   ],
   "source": [
    "#To run on hpcs34:\n",
    "cmd = ['mpirun', '-np', '32', 'python', './pyLaueGo.py',\n",
    "        '--configFile', configFile]\n",
    "result = subprocess.run(cmd, capture_output=True)\n",
    "print(result.returncode)\n",
    "print(result.stdout.decode(\"utf-8\"))\n",
    "print(result.stderr.decode(\"utf-8\"))"
   ]
  },
  {
   "cell_type": "code",
   "execution_count": 9,
   "id": "989296f7",
   "metadata": {},
   "outputs": [
    {
     "name": "stdout",
     "output_type": "stream",
     "text": [
      "0\n",
      "Run started with ID: 5e806738-4106-4047-947c-8f7a234a27c6\n",
      "https://app.globus.org/runs/5e806738-4106-4047-947c-8f7a234a27c6\n",
      "\n",
      "\n"
     ]
    }
   ],
   "source": [
    "#To run on polaris\n",
    "cmd = ['python', './workflow/indexingClient.py', \n",
    "       '--crystalFile', config['crystFile'], \n",
    "       '--geoFile', config['geoFile'],\n",
    "       '--label', config['filenamePrefix'], \n",
    "       '--inputDir', config['filefolder'], \n",
    "       '--outputDir', config['outputFolder'],\n",
    "       '--configFile', configFile]\n",
    "result = subprocess.run(cmd, capture_output=True)\n",
    "print(result.returncode)\n",
    "print(result.stdout.decode(\"utf-8\"))\n",
    "print(result.stderr.decode(\"utf-8\"))\n",
    "\n",
    "#If you see something about \"Please paste the following URL in a browser...\"\n",
    "#You may need to run once outside of the notebook to authenticate Globus.\n",
    "#Afterwards you will be able to run in the notebook"
   ]
  },
  {
   "cell_type": "code",
   "execution_count": null,
   "id": "4fbdea2b",
   "metadata": {},
   "outputs": [],
   "source": []
  }
 ],
 "metadata": {
  "kernelspec": {
   "display_name": "Python 3 (ipykernel)",
   "language": "python",
   "name": "python3"
  },
  "language_info": {
   "codemirror_mode": {
    "name": "ipython",
    "version": 3
   },
   "file_extension": ".py",
   "mimetype": "text/x-python",
   "name": "python",
   "nbconvert_exporter": "python",
   "pygments_lexer": "ipython3",
   "version": "3.9.16"
  }
 },
 "nbformat": 4,
 "nbformat_minor": 5
}
